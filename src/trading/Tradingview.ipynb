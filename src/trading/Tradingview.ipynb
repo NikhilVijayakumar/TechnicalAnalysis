{
 "cells": [
  {
   "cell_type": "code",
   "execution_count": 10,
   "id": "ce1e3737",
   "metadata": {},
   "outputs": [],
   "source": [
    "from tradingview_ta import TA_Handler, Interval, Exchange\n",
    "from tradingview_ta import Compute\n",
    "import tradingview_ta as ta\n"
   ]
  },
  {
   "cell_type": "code",
   "execution_count": 2,
   "id": "9e81d5da",
   "metadata": {},
   "outputs": [
    {
     "name": "stdout",
     "output_type": "stream",
     "text": [
      "{'RECOMMENDATION': 'STRONG_BUY', 'BUY': 17, 'SELL': 0, 'NEUTRAL': 9}\n"
     ]
    }
   ],
   "source": [
    "tesla = TA_Handler(\n",
    "    symbol=\"TSLA\",\n",
    "    screener=\"america\",\n",
    "    exchange=\"NASDAQ\",\n",
    "    interval=Interval.INTERVAL_1_DAY\n",
    ")\n",
    "print(tesla.get_analysis().summary)"
   ]
  },
  {
   "cell_type": "code",
   "execution_count": 6,
   "id": "39ed2691",
   "metadata": {},
   "outputs": [
    {
     "name": "stdout",
     "output_type": "stream",
     "text": [
      "{'RECOMMENDATION': 'BUY', 'BUY': 8, 'SELL': 1, 'NEUTRAL': 15}\n"
     ]
    }
   ],
   "source": [
    "emam  = TA_Handler(\n",
    "    symbol=\"EMAMIPAP\",\n",
    "    screener=\"india\",\n",
    "    exchange=\"NSE\",\n",
    "    interval=Interval.INTERVAL_1_MINUTE,\n",
    "    timeout=5\n",
    ")\n",
    "analysis = emam.get_analysis()\n",
    "print(analysis.summary)"
   ]
  },
  {
   "cell_type": "code",
   "execution_count": 7,
   "id": "ac1e1b73",
   "metadata": {},
   "outputs": [
    {
     "name": "stdout",
     "output_type": "stream",
     "text": [
      "{'RECOMMENDATION': 'SELL', 'BUY': 0, 'SELL': 1, 'NEUTRAL': 8, 'COMPUTE': {'RSI': 'NEUTRAL', 'STOCH.K': 'NEUTRAL', 'CCI': 'NEUTRAL', 'ADX': 'NEUTRAL', 'AO': 'NEUTRAL', 'Mom': 'NEUTRAL', 'MACD': 'SELL', 'Stoch.RSI': 'NEUTRAL', 'BBP': 'NEUTRAL'}}\n"
     ]
    }
   ],
   "source": [
    "print(analysis.oscillators)"
   ]
  },
  {
   "cell_type": "code",
   "execution_count": 9,
   "id": "a19773d6",
   "metadata": {},
   "outputs": [
    {
     "name": "stdout",
     "output_type": "stream",
     "text": [
      "{'RECOMMENDATION': 'STRONG_BUY', 'BUY': 8, 'SELL': 0, 'NEUTRAL': 7, 'COMPUTE': {'EMA10': 'BUY', 'SMA10': 'NEUTRAL', 'EMA20': 'BUY', 'SMA20': 'NEUTRAL', 'EMA30': 'BUY', 'SMA30': 'NEUTRAL', 'EMA50': 'BUY', 'SMA50': 'NEUTRAL', 'EMA100': 'BUY', 'SMA100': 'BUY', 'EMA200': 'BUY', 'SMA200': 'BUY', 'Ichimoku': 'NEUTRAL', 'VWMA': 'NEUTRAL', 'HullMA': 'NEUTRAL'}}\n"
     ]
    }
   ],
   "source": [
    "print(analysis.moving_averages)"
   ]
  },
  {
   "cell_type": "code",
   "execution_count": 11,
   "id": "c834b4ea",
   "metadata": {},
   "outputs": [
    {
     "name": "stdout",
     "output_type": "stream",
     "text": [
      "BUY\n"
     ]
    }
   ],
   "source": [
    "print(Compute.PSAR(analysis.indicators[\"P.SAR\"], analysis.indicators[\"open\"]))"
   ]
  },
  {
   "cell_type": "code",
   "execution_count": 13,
   "id": "1a0e0ad2",
   "metadata": {},
   "outputs": [
    {
     "name": "stdout",
     "output_type": "stream",
     "text": [
      "BUY\n"
     ]
    }
   ],
   "source": [
    "print(Compute.MA(analysis.indicators[\"EMA10\"], analysis.indicators[\"open\"]))"
   ]
  },
  {
   "cell_type": "code",
   "execution_count": 14,
   "id": "de05f7bd",
   "metadata": {},
   "outputs": [
    {
     "name": "stdout",
     "output_type": "stream",
     "text": [
      "{'Recommend.Other': -0.11111111, 'Recommend.All': 0.21111111, 'Recommend.MA': 0.53333333, 'RSI': 65.8192897, 'RSI[1]': 65.8192897, 'Stoch.K': 100, 'Stoch.D': 100, 'Stoch.K[1]': 100, 'Stoch.D[1]': 100, 'CCI20': 35.0877193, 'CCI20[1]': 35.0877193, 'ADX': 3.18439419, 'ADX+DI': 25.30604359, 'ADX-DI': 26.85097432, 'ADX+DI[1]': 25.30604359, 'ADX-DI[1]': 26.85097432, 'AO': 0, 'AO[1]': 0, 'Mom': 0, 'Mom[1]': 0, 'MACD.macd': 0.01883291, 'MACD.signal': 0.02756898, 'Rec.Stoch.RSI': 0, 'Stoch.RSI.K': 100, 'Rec.WR': None, 'W.R': None, 'Rec.BBPower': 0, 'BBPower': 0.00026693, 'Rec.UO': None, 'UO': None, 'close': 119.8, 'EMA5': 119.8, 'SMA5': 119.8, 'EMA10': 119.7999927, 'SMA10': 119.8, 'EMA20': 119.79585301, 'SMA20': 119.8, 'EMA30': 119.7620524, 'SMA30': 119.8, 'EMA50': 119.52152667, 'SMA50': 119.8, 'EMA100': 118.01496893, 'SMA100': 118.762, 'EMA200': 114.46951385, 'SMA200': 113.23775, 'Rec.Ichimoku': 0, 'Ichimoku.BLine': 119.8, 'Rec.VWMA': 0, 'VWMA': 119.8, 'Rec.HullMA9': 0, 'HullMA9': 119.8, 'Pivot.M.Classic.S3': 76.36666667, 'Pivot.M.Classic.S2': 89.66666667, 'Pivot.M.Classic.S1': 94.58333333, 'Pivot.M.Classic.Middle': 102.96666667, 'Pivot.M.Classic.R1': 107.88333333, 'Pivot.M.Classic.R2': 116.26666667, 'Pivot.M.Classic.R3': 129.56666667, 'Pivot.M.Fibonacci.S3': 89.66666667, 'Pivot.M.Fibonacci.S2': 94.74726667, 'Pivot.M.Fibonacci.S1': 97.88606667, 'Pivot.M.Fibonacci.Middle': 102.96666667, 'Pivot.M.Fibonacci.R1': 108.04726667, 'Pivot.M.Fibonacci.R2': 111.18606667, 'Pivot.M.Fibonacci.R3': 116.26666667, 'Pivot.M.Camarilla.S3': 95.8425, 'Pivot.M.Camarilla.S2': 97.06166667, 'Pivot.M.Camarilla.S1': 98.28083333, 'Pivot.M.Camarilla.Middle': 102.96666667, 'Pivot.M.Camarilla.R1': 100.71916667, 'Pivot.M.Camarilla.R2': 101.93833333, 'Pivot.M.Camarilla.R3': 103.1575, 'Pivot.M.Woodie.S3': 79.9, 'Pivot.M.Woodie.S2': 88.975, 'Pivot.M.Woodie.S1': 93.2, 'Pivot.M.Woodie.Middle': 102.275, 'Pivot.M.Woodie.R1': 106.5, 'Pivot.M.Woodie.R2': 115.575, 'Pivot.M.Woodie.R3': 119.8, 'Pivot.M.Demark.S1': 92.125, 'Pivot.M.Demark.Middle': 101.7375, 'Pivot.M.Demark.R1': 105.425, 'open': 119.8, 'P.SAR': 119.53825384, 'BB.lower': 119.79998955, 'BB.upper': 119.80001045}\n"
     ]
    }
   ],
   "source": [
    "print(analysis.indicators)"
   ]
  },
  {
   "cell_type": "code",
   "execution_count": null,
   "id": "95a74765",
   "metadata": {},
   "outputs": [],
   "source": []
  }
 ],
 "metadata": {
  "kernelspec": {
   "display_name": "Python 3",
   "language": "python",
   "name": "python3"
  },
  "language_info": {
   "codemirror_mode": {
    "name": "ipython",
    "version": 3
   },
   "file_extension": ".py",
   "mimetype": "text/x-python",
   "name": "python",
   "nbconvert_exporter": "python",
   "pygments_lexer": "ipython3",
   "version": "3.8.8"
  }
 },
 "nbformat": 4,
 "nbformat_minor": 5
}
